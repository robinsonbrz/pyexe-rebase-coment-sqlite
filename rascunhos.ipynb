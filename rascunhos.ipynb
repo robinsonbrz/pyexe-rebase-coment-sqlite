{
 "cells": [
  {
   "cell_type": "code",
   "execution_count": 64,
   "metadata": {},
   "outputs": [
    {
     "name": "stdout",
     "output_type": "stream",
     "text": [
      "Banco de dados já existe\n",
      "☝️\n"
     ]
    }
   ],
   "source": [
    "import sqlite3\n",
    "import sys\n",
    "\n",
    "connection = sqlite3.connect(\"projetos_e_commits.db\")\n",
    "cursor = connection.cursor()\n",
    "\n",
    "try:\n",
    "    cursor.execute(\"CREATE TABLE posicao_commit ( pasta_projeto STRING, numero_feature INTEGER)\")\n",
    "    cursor.execute(\"CREATE TABLE icones (numero_icone INTEGER, icone STRING)\")\n",
    "    print(\"Banco de dados criado com sucesso\")\n",
    "except Exception as e:\n",
    "    print(\"Banco de dados já existe\")\n",
    "\n",
    "\n",
    "\n",
    "def retorna_icone(numero_icone):\n",
    "\n",
    "    rows = cursor.execute(f\"SELECT icone FROM icones Where numero_icone = {numero_icone}\").fetchall()\n",
    "    print(rows[0][0])\n",
    "\n",
    "\n",
    "\n",
    "for i in range(1, 2):\n",
    "    retorna_icone(i)\n",
    "    \n"
   ]
  },
  {
   "cell_type": "code",
   "execution_count": null,
   "metadata": {},
   "outputs": [],
   "source": []
  },
  {
   "cell_type": "code",
   "execution_count": 34,
   "metadata": {},
   "outputs": [],
   "source": [
    "cursor.close()\n",
    "connection.close()"
   ]
  },
  {
   "cell_type": "code",
   "execution_count": 1,
   "metadata": {},
   "outputs": [
    {
     "data": {
      "text/plain": [
       "<function __main__.exit_db()>"
      ]
     },
     "execution_count": 1,
     "metadata": {},
     "output_type": "execute_result"
    }
   ],
   "source": [
    "import sqlite3\n",
    "import sys\n",
    "\n",
    "connection = sqlite3.connect(\"people.db\")\n",
    "cursor = connection.cursor()\n",
    "\n",
    "\n",
    "def exit_db():\n",
    "    cursor.close()\n",
    "    connection.close()\n",
    "    sys.exit()\n",
    "\n",
    "exit_db\n"
   ]
  },
  {
   "cell_type": "code",
   "execution_count": null,
   "metadata": {},
   "outputs": [],
   "source": [
    "def user_is_unique(name):\n",
    "    rows = cursor.execute(\"SELECT name, age, skills FROM people\").fetchall()\n",
    "\n",
    "    for user in rows:\n",
    "        if user[0] == name:\n",
    "            return False\n",
    "    return True"
   ]
  }
 ],
 "metadata": {
  "interpreter": {
   "hash": "674cac6f6c46a1a88862bd8ea7e488585d98c30ae26d6710997aff041f71c488"
  },
  "kernelspec": {
   "display_name": "Python 3.10.4 ('venv': venv)",
   "language": "python",
   "name": "python3"
  },
  "language_info": {
   "codemirror_mode": {
    "name": "ipython",
    "version": 3
   },
   "file_extension": ".py",
   "mimetype": "text/x-python",
   "name": "python",
   "nbconvert_exporter": "python",
   "pygments_lexer": "ipython3",
   "version": "3.10.4"
  },
  "orig_nbformat": 4
 },
 "nbformat": 4,
 "nbformat_minor": 2
}
